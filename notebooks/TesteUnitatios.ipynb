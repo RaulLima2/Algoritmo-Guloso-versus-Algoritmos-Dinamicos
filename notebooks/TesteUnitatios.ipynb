{
    "cells": [
        {
            "cell_type": "markdown",
            "source": [
                "# Testes Unitarios"
            ],
            "metadata": {}
        },
        {
            "cell_type": "markdown",
            "source": [
                "## Recursiva\n",
                "* Algoritmo Recursivo\n",
                "* Não Dinamico\n",
                "* Sem Opmização"
            ],
            "metadata": {}
        },
        {
            "cell_type": "code",
            "execution_count": 17,
            "source": [
                "import numba\n",
                "import numpy as np"
            ],
            "outputs": [],
            "metadata": {}
        },
        {
            "cell_type": "code",
            "execution_count": 18,
            "source": [
                "def fibonacirecursivo(x:int):\n",
                "    return x if x < 2 else fibonacirecursivo(x - 1) + fibonacirecursivo(x - 2) "
            ],
            "outputs": [],
            "metadata": {}
        },
        {
            "cell_type": "code",
            "execution_count": 19,
            "source": [
                "fibonacirecursivo(10)"
            ],
            "outputs": [
                {
                    "output_type": "execute_result",
                    "data": {
                        "text/plain": [
                            "55"
                        ]
                    },
                    "metadata": {},
                    "execution_count": 19
                }
            ],
            "metadata": {}
        },
        {
            "cell_type": "markdown",
            "source": [
                "## Recursivo\n",
                "* Recursivo\n",
                "* Não Dinamico\n",
                "* Otimizado"
            ],
            "metadata": {}
        },
        {
            "cell_type": "code",
            "execution_count": 20,
            "source": [
                "@numba.jit(nopython=True)\n",
                "def fibonacirecursivo(x:int):\n",
                "    return x if x < 2 else fibonacirecursivo(x - 1) + fibonacirecursivo(x - 2) "
            ],
            "outputs": [],
            "metadata": {}
        },
        {
            "cell_type": "code",
            "execution_count": 21,
            "source": [
                "fibonacirecursivo(3)"
            ],
            "outputs": [
                {
                    "output_type": "execute_result",
                    "data": {
                        "text/plain": [
                            "2"
                        ]
                    },
                    "metadata": {},
                    "execution_count": 21
                }
            ],
            "metadata": {}
        },
        {
            "cell_type": "code",
            "execution_count": 22,
            "source": [
                "fibonacirecursivo(10)"
            ],
            "outputs": [
                {
                    "output_type": "execute_result",
                    "data": {
                        "text/plain": [
                            "55"
                        ]
                    },
                    "metadata": {},
                    "execution_count": 22
                }
            ],
            "metadata": {}
        },
        {
            "cell_type": "markdown",
            "source": [
                "## Algoritmo Dinamico\n",
                "* Não recursivo\n",
                "* Sem otimização"
            ],
            "metadata": {}
        },
        {
            "cell_type": "code",
            "execution_count": 23,
            "source": [
                "def fibonacidinamico(x:int):\n",
                "  print('Algoritmo Dinamico')\n",
                "  datatable = [0, 1]\n",
                "\n",
                "  if x <= 1 :\n",
                "    return datatable[1]\n",
                "\n",
                "  for index in range(2, x):\n",
                "    datatable.append(datatable[index - 1] + datatable[index - 2])\n",
                "  \n",
                "  return datatable[x - 1]"
            ],
            "outputs": [],
            "metadata": {}
        },
        {
            "cell_type": "code",
            "execution_count": 24,
            "source": [
                "fibonacidinamico(1)"
            ],
            "outputs": [
                {
                    "output_type": "stream",
                    "name": "stdout",
                    "text": [
                        "Algoritmo Dinamico\n"
                    ]
                },
                {
                    "output_type": "execute_result",
                    "data": {
                        "text/plain": [
                            "1"
                        ]
                    },
                    "metadata": {},
                    "execution_count": 24
                }
            ],
            "metadata": {}
        },
        {
            "cell_type": "code",
            "execution_count": 25,
            "source": [
                "fibonacidinamico(10)"
            ],
            "outputs": [
                {
                    "output_type": "stream",
                    "name": "stdout",
                    "text": [
                        "Algoritmo Dinamico\n"
                    ]
                },
                {
                    "output_type": "execute_result",
                    "data": {
                        "text/plain": [
                            "34"
                        ]
                    },
                    "metadata": {},
                    "execution_count": 25
                }
            ],
            "metadata": {}
        },
        {
            "cell_type": "markdown",
            "source": [
                "## Algoritmo Dinamico\n",
                "* Com otimização\n",
                "* Sem recursividade"
            ],
            "metadata": {}
        },
        {
            "cell_type": "code",
            "execution_count": 26,
            "source": [
                "@numba.jit(parallel=True, nopython=True)\n",
                "def fibonacidinamico(x:int):\n",
                "  print('Algoritmo Dinamico')\n",
                "  datatable = np.arange(0, x)\n",
                "  datatable[0] = 0\n",
                "  datatable[1] = 1\n",
                "\n",
                "  if x <= 1 :\n",
                "    return datatable[1]\n",
                "\n",
                "  for index in range(2, x):\n",
                "    datatable[index] = (datatable[index - 1] + datatable[index - 2])\n",
                "  \n",
                "  return datatable[x - 1]"
            ],
            "outputs": [],
            "metadata": {}
        },
        {
            "cell_type": "code",
            "execution_count": 27,
            "source": [
                "fibonacidinamico(1)"
            ],
            "outputs": [
                {
                    "output_type": "stream",
                    "name": "stdout",
                    "text": [
                        "Algoritmo Dinamico\n"
                    ]
                },
                {
                    "output_type": "execute_result",
                    "data": {
                        "text/plain": [
                            "1"
                        ]
                    },
                    "metadata": {},
                    "execution_count": 27
                }
            ],
            "metadata": {}
        },
        {
            "cell_type": "code",
            "execution_count": 28,
            "source": [
                "fibonacidinamico(10)"
            ],
            "outputs": [
                {
                    "output_type": "stream",
                    "name": "stdout",
                    "text": [
                        "Algoritmo Dinamico\n"
                    ]
                },
                {
                    "output_type": "execute_result",
                    "data": {
                        "text/plain": [
                            "34"
                        ]
                    },
                    "metadata": {},
                    "execution_count": 28
                }
            ],
            "metadata": {}
        },
        {
            "cell_type": "code",
            "execution_count": 29,
            "source": [
                "@numba.jit(parallel=True, nopython=True)\n",
                "def fibonacidinamicootimizado(x:int):\n",
                "  datatable = np.arange(0, x)\n",
                "\n",
                "  if x <= 1:\n",
                "    return datatable[1]\n",
                "\n",
                "  for index in range(2, x):\n",
                "    datatable[index] = datatable[index - 1] + datatable[index - 2]\n",
                "  \n",
                "  result = datatable[x - 1]\n",
                "  return result"
            ],
            "outputs": [],
            "metadata": {}
        },
        {
            "cell_type": "code",
            "execution_count": 15,
            "source": [
                "fibonacidinamicootimizado(10)"
            ],
            "outputs": [
                {
                    "output_type": "execute_result",
                    "data": {
                        "text/plain": [
                            "34"
                        ]
                    },
                    "metadata": {},
                    "execution_count": 15
                }
            ],
            "metadata": {}
        },
        {
            "cell_type": "code",
            "execution_count": 16,
            "source": [
                "x = np.matrix([[1,1],[1,0]])"
            ],
            "outputs": [],
            "metadata": {}
        },
        {
            "cell_type": "code",
            "execution_count": 30,
            "source": [
                "x**10"
            ],
            "outputs": [
                {
                    "output_type": "execute_result",
                    "data": {
                        "text/plain": [
                            "matrix([[89, 55],\n",
                            "        [55, 34]])"
                        ]
                    },
                    "metadata": {},
                    "execution_count": 30
                }
            ],
            "metadata": {}
        },
        {
            "cell_type": "code",
            "execution_count": null,
            "source": [
                "x**10[]"
            ],
            "outputs": [],
            "metadata": {}
        }
    ],
    "metadata": {
        "orig_nbformat": 4,
        "language_info": {
            "name": "python",
            "version": "3.9.6",
            "mimetype": "text/x-python",
            "codemirror_mode": {
                "name": "ipython",
                "version": 3
            },
            "pygments_lexer": "ipython3",
            "nbconvert_exporter": "python",
            "file_extension": ".py"
        },
        "kernelspec": {
            "name": "python3",
            "display_name": "Python 3.9.6 64-bit"
        },
        "interpreter": {
            "hash": "e7370f93d1d0cde622a1f8e1c04877d8463912d04d973331ad4851f04de6915a"
        }
    },
    "nbformat": 4,
    "nbformat_minor": 2
}